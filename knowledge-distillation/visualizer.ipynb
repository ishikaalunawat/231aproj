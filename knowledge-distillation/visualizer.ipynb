{
 "cells": [
  {
   "cell_type": "markdown",
   "metadata": {},
   "source": [
    "## Imports"
   ]
  },
  {
   "cell_type": "code",
   "execution_count": null,
   "metadata": {},
   "outputs": [],
   "source": [
    "from student_model import StudentModelPretrained\n",
    "from dataloader import get_dataloader\n",
    "import numpy as np\n",
    "import torch\n",
    "from visualizer import  student_inference, visualize_point_cloud\n",
    "import plotly.express as px\n",
    "import os\n",
    "os.chdir(os.path.dirname(os.getcwd()))\n",
    "# %load_ext autoreload\n",
    "# %autoreload 2"
   ]
  },
  {
   "cell_type": "markdown",
   "metadata": {},
   "source": [
    "## Configure parameters"
   ]
  },
  {
   "cell_type": "code",
   "execution_count": null,
   "metadata": {},
   "outputs": [],
   "source": [
    "class InferenceParams():\n",
    "    DEVICE = \"cuda\"\n",
    "    BATCH_SIZE = 5\n",
    "    SCENE_TYPE = \"scene_1\"\n",
    "    SPLIT = \"train\"\n",
    "    MODEL_TYPE = \"conv_pretrained\"\n",
    "    MODEL_PATH = f\"student_models/{MODEL_TYPE}/{SCENE_TYPE}.pth\""
   ]
  },
  {
   "cell_type": "markdown",
   "metadata": {},
   "source": [
    "## Run Inference / Visualization"
   ]
  },
  {
   "cell_type": "code",
   "execution_count": null,
   "metadata": {},
   "outputs": [],
   "source": [
    "dataloader = get_dataloader(\"datasets\", InferenceParams.SCENE_TYPE, InferenceParams.SPLIT, False, InferenceParams.BATCH_SIZE)\n",
    "student = StudentModelPretrained()\n",
    "student.load_state_dict(torch.load(InferenceParams.MODEL_PATH))"
   ]
  },
  {
   "cell_type": "code",
   "execution_count": null,
   "metadata": {},
   "outputs": [],
   "source": [
    "pcds = student_inference(student, dataloader, 0.00095, device=InferenceParams.DEVICE)\n",
    "# pcd_down = visualize_point_cloud(pcds, 1)"
   ]
  },
  {
   "cell_type": "code",
   "execution_count": null,
   "metadata": {},
   "outputs": [],
   "source": [
    "import gc\n",
    "gc.collect()"
   ]
  },
  {
   "cell_type": "code",
   "execution_count": null,
   "metadata": {},
   "outputs": [],
   "source": [
    "pcd_down = pcds[0]#.voxel_down_sample(0.0075)\n",
    "points = np.asarray(pcd_down.points)\n",
    "fig = px.scatter_3d(\n",
    "    x = points[:,0],\n",
    "    y = points[:,1],\n",
    "    z = points[:,2],\n",
    "              )\n",
    "fig.update_traces(marker_size = 1)\n",
    "camera = dict(\n",
    "    up=dict(x=0, y=-1, z=0),\n",
    "    center=dict(x=-0.2, y=-0.2, z=0.2),\n",
    "    eye=dict(x=-1.5, y=0, z=-1.5)\n",
    ")\n",
    "\n",
    "fig.update_layout(scene_camera=camera)\n",
    "fig.show()"
   ]
  },
  {
   "cell_type": "markdown",
   "metadata": {},
   "source": []
  },
  {
   "cell_type": "code",
   "execution_count": null,
   "metadata": {},
   "outputs": [],
   "source": [
    "import open3d as o3d\n",
    "points = np.load(f'datasets/dust3r/{InferenceParams.SCENE_TYPE}.npy')[0].reshape(-1, 3)\n",
    "# print(points.shape)\n",
    "fig = px.scatter_3d(\n",
    "    x = points[:,0],\n",
    "    y = points[:,1],\n",
    "    z = points[:,2],\n",
    "              )\n",
    "fig.update_traces(marker_size = 0.2)\n",
    "camera = dict(\n",
    "    up=dict(x=0, y=-1, z=0),\n",
    "    center=dict(x=-0.2, y=-0.2, z=0.2),\n",
    "    eye=dict(x=-1.5, y=0, z=-1.5)\n",
    ")\n",
    "\n",
    "fig.update_layout(scene_camera=camera)\n",
    "fig.show()"
   ]
  },
  {
   "cell_type": "code",
   "execution_count": null,
   "metadata": {},
   "outputs": [],
   "source": []
  }
 ],
 "metadata": {
  "kernelspec": {
   "display_name": "Python 3",
   "language": "python",
   "name": "python3"
  },
  "language_info": {
   "codemirror_mode": {
    "name": "ipython",
    "version": 3
   },
   "file_extension": ".py",
   "mimetype": "text/x-python",
   "name": "python",
   "nbconvert_exporter": "python",
   "pygments_lexer": "ipython3",
   "version": "3.11.8"
  }
 },
 "nbformat": 4,
 "nbformat_minor": 2
}
