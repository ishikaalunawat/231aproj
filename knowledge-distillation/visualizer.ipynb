{
 "cells": [
  {
   "cell_type": "code",
   "execution_count": null,
   "metadata": {},
   "outputs": [],
   "source": [
    "from student_model import StudentModel\n",
    "from dataloader import get_dataloader\n",
    "import open3d as o3d\n",
    "import torch\n",
    "from open3d import JVisualizer\n",
    "from visualizer import  student_inference, visualize_point_cloud\n",
    "class InferenceParams():\n",
    "    IMAGE_SIZE = 512\n",
    "    SCENEGRAPH_TYPE = \"complete\"\n",
    "    DEVICE = \"cuda\"\n",
    "    BATCH_SIZE = 8\n",
    "    GLOBAL_ALIGNMENT_NITER = 300\n",
    "    SCHEDULE = \"linear\"\n",
    "import os\n",
    "os.chdir(os.path.dirname(os.getcwd()))\n",
    "# %load_ext autoreload\n",
    "# %autoreload 2"
   ]
  },
  {
   "cell_type": "code",
   "execution_count": null,
   "metadata": {},
   "outputs": [],
   "source": [
    "train_dataloader = get_dataloader(\"datasets\", \"12scenes_office1_gates362_trial\", \"train\", batch_size=1)\n",
    "student = StudentModel()\n",
    "student.load_state_dict(torch.load('scene_office.pth'))"
   ]
  },
  {
   "cell_type": "code",
   "execution_count": null,
   "metadata": {},
   "outputs": [],
   "source": [
    "pcds = student_inference(student, train_dataloader, device=\"cuda\")"
   ]
  },
  {
   "cell_type": "code",
   "execution_count": null,
   "metadata": {},
   "outputs": [],
   "source": [
    "visualizer = JVisualizer()\n",
    "visualizer.add_geometry(pcd)\n",
    "visualizer.show()"
   ]
  },
  {
   "cell_type": "code",
   "execution_count": null,
   "metadata": {},
   "outputs": [],
   "source": []
  }
 ],
 "metadata": {
  "kernelspec": {
   "display_name": "dust3r",
   "language": "python",
   "name": "python3"
  },
  "language_info": {
   "codemirror_mode": {
    "name": "ipython",
    "version": 3
   },
   "file_extension": ".py",
   "mimetype": "text/x-python",
   "name": "python",
   "nbconvert_exporter": "python",
   "pygments_lexer": "ipython3",
   "version": "3.11.9"
  }
 },
 "nbformat": 4,
 "nbformat_minor": 2
}
