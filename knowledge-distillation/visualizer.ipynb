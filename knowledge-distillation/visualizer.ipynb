{
 "cells": [
  {
   "cell_type": "markdown",
   "metadata": {},
   "source": [
    "## Imports"
   ]
  },
  {
   "cell_type": "code",
   "execution_count": 1,
   "metadata": {},
   "outputs": [
    {
     "name": "stdout",
     "output_type": "stream",
     "text": [
      "Jupyter environment detected. Enabling Open3D WebVisualizer.\n",
      "[Open3D INFO] WebRTC GUI backend enabled.\n",
      "[Open3D INFO] WebRTCWindowSystem: HTTP handshake server disabled.\n"
     ]
    }
   ],
   "source": [
    "from student_model import StudentModelPretrained\n",
    "from dataloader import get_dataloader\n",
    "import numpy as np\n",
    "import torch\n",
    "from visualizer import  student_inference, visualize_point_cloud\n",
    "import plotly.express as px\n",
    "import os\n",
    "os.chdir(os.path.dirname(os.getcwd()))\n",
    "# %load_ext autoreload\n",
    "# %autoreload 2"
   ]
  },
  {
   "cell_type": "markdown",
   "metadata": {},
   "source": [
    "## Configure parameters"
   ]
  },
  {
   "cell_type": "code",
   "execution_count": 5,
   "metadata": {},
   "outputs": [],
   "source": [
    "class InferenceParams():\n",
    "    DEVICE = \"cuda\"\n",
    "    BATCH_SIZE = 5\n",
    "    SCENE_TYPE = \"scene_1\"\n",
    "    SPLIT = \"test\"\n",
    "    MODEL_TYPE = \"conv_pretrained\"\n",
    "    MODEL_PATH = f\"student_models/{MODEL_TYPE}/{SCENE_TYPE}.pth\""
   ]
  },
  {
   "cell_type": "markdown",
   "metadata": {},
   "source": [
    "## Run Inference / Visualization"
   ]
  },
  {
   "cell_type": "code",
   "execution_count": 6,
   "metadata": {},
   "outputs": [
    {
     "data": {
      "text/plain": [
       "<All keys matched successfully>"
      ]
     },
     "execution_count": 6,
     "metadata": {},
     "output_type": "execute_result"
    }
   ],
   "source": [
    "dataloader = get_dataloader(\"datasets\", InferenceParams.SCENE_TYPE, InferenceParams.SPLIT, False, InferenceParams.BATCH_SIZE)\n",
    "student = StudentModelPretrained()\n",
    "student.load_state_dict(torch.load(InferenceParams.MODEL_PATH))"
   ]
  },
  {
   "cell_type": "code",
   "execution_count": 7,
   "metadata": {},
   "outputs": [],
   "source": [
    "pcds = student_inference(student, dataloader, 0.0075, device=InferenceParams.DEVICE)\n",
    "# pcd_down = visualize_point_cloud(pcds, 0.002)"
   ]
  },
  {
   "cell_type": "code",
   "execution_count": 9,
   "metadata": {},
   "outputs": [
    {
     "ename": "AttributeError",
     "evalue": "'Tensor' object has no attribute 'points'",
     "output_type": "error",
     "traceback": [
      "\u001b[0;31m---------------------------------------------------------------------------\u001b[0m",
      "\u001b[0;31mAttributeError\u001b[0m                            Traceback (most recent call last)",
      "Cell \u001b[0;32mIn[9], line 2\u001b[0m\n\u001b[1;32m      1\u001b[0m \u001b[38;5;66;03m# pcd_down = pcds[0].voxel_down_sample(0.02)\u001b[39;00m\n\u001b[0;32m----> 2\u001b[0m points \u001b[38;5;241m=\u001b[39m np\u001b[38;5;241m.\u001b[39masarray(\u001b[43mpcds\u001b[49m\u001b[43m[\u001b[49m\u001b[38;5;241;43m0\u001b[39;49m\u001b[43m]\u001b[49m\u001b[38;5;241;43m.\u001b[39;49m\u001b[43mpoints\u001b[49m)\n\u001b[1;32m      3\u001b[0m fig \u001b[38;5;241m=\u001b[39m px\u001b[38;5;241m.\u001b[39mscatter_3d(\n\u001b[1;32m      4\u001b[0m     x \u001b[38;5;241m=\u001b[39m points[:,\u001b[38;5;241m0\u001b[39m],\n\u001b[1;32m      5\u001b[0m     y \u001b[38;5;241m=\u001b[39m points[:,\u001b[38;5;241m1\u001b[39m],\n\u001b[1;32m      6\u001b[0m     z \u001b[38;5;241m=\u001b[39m points[:,\u001b[38;5;241m2\u001b[39m],\n\u001b[1;32m      7\u001b[0m               )\n\u001b[1;32m      8\u001b[0m fig\u001b[38;5;241m.\u001b[39mupdate_traces(marker_size \u001b[38;5;241m=\u001b[39m \u001b[38;5;241m0.5\u001b[39m)\n",
      "\u001b[0;31mAttributeError\u001b[0m: 'Tensor' object has no attribute 'points'"
     ]
    }
   ],
   "source": [
    "# pcd_down = pcds[0].voxel_down_sample(0.02)\n",
    "points = np.asarray(pcds[0].points)\n",
    "fig = px.scatter_3d(\n",
    "    x = points[:,0],\n",
    "    y = points[:,1],\n",
    "    z = points[:,2],\n",
    "              )\n",
    "fig.update_traces(marker_size = 0.5)\n",
    "camera = dict(\n",
    "    up=dict(x=0, y=-1, z=0),\n",
    "    center=dict(x=-0.2, y=-0.2, z=0.2),\n",
    "    eye=dict(x=-1.5, y=0, z=-1.5)\n",
    ")\n",
    "\n",
    "fig.update_layout(scene_camera=camera)\n",
    "fig.show()"
   ]
  },
  {
   "cell_type": "code",
   "execution_count": null,
   "metadata": {},
   "outputs": [],
   "source": [
    "import open3d as o3d\n",
    "points = np.load(f'datasets/dust3r/{InferenceParams.SCENE_TYPE}.npy')[0].reshape(-1, 3)\n",
    "# print(points.shape)\n",
    "fig = px.scatter_3d(\n",
    "    x = points[:,0],\n",
    "    y = points[:,1],\n",
    "    z = points[:,2],\n",
    "              )\n",
    "fig.update_traces(marker_size = 0.2)\n",
    "camera = dict(\n",
    "    up=dict(x=0, y=-1, z=0),\n",
    "    center=dict(x=-0.2, y=-0.2, z=0.2),\n",
    "    eye=dict(x=-1.5, y=0, z=-1.5)\n",
    ")\n",
    "\n",
    "fig.update_layout(scene_camera=camera)\n",
    "fig.show()"
   ]
  },
  {
   "cell_type": "code",
   "execution_count": null,
   "metadata": {},
   "outputs": [],
   "source": []
  }
 ],
 "metadata": {
  "kernelspec": {
   "display_name": "Python 3",
   "language": "python",
   "name": "python3"
  },
  "language_info": {
   "codemirror_mode": {
    "name": "ipython",
    "version": 3
   },
   "file_extension": ".py",
   "mimetype": "text/x-python",
   "name": "python",
   "nbconvert_exporter": "python",
   "pygments_lexer": "ipython3",
   "version": "3.11.8"
  }
 },
 "nbformat": 4,
 "nbformat_minor": 2
}
