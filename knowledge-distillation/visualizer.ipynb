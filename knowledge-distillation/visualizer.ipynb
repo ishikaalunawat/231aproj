{
 "cells": [
  {
   "cell_type": "markdown",
   "metadata": {},
   "source": [
    "## Imports"
   ]
  },
  {
   "cell_type": "code",
   "execution_count": null,
   "metadata": {},
   "outputs": [],
   "source": [
    "from student_model import StudentModel\n",
    "from dataloader import get_dataloader\n",
    "import numpy as np\n",
    "import torch\n",
    "from visualizer import  student_inference, visualize_point_cloud\n",
    "import plotly.express as px\n",
    "import os, gc\n",
    "os.chdir(os.path.dirname(os.getcwd()))\n",
    "# %load_ext autoreload\n",
    "# %autoreload 2"
   ]
  },
  {
   "cell_type": "markdown",
   "metadata": {},
   "source": [
    "## Configure parameters"
   ]
  },
  {
   "cell_type": "code",
   "execution_count": null,
   "metadata": {},
   "outputs": [],
   "source": [
    "class InferenceParams():\n",
    "    DEVICE = \"cuda\"\n",
    "    BATCH_SIZE = 5\n",
    "    SCENE_TYPE = \"scene_4\"\n",
    "    VOXEL_SIZE = 0.0075\n",
    "    SPLIT = \"test\"\n",
    "    MODEL_TYPE = \"vit\"\n",
    "    MODEL_PATH = f\"student_models/{MODEL_TYPE}/{SCENE_TYPE}.pth\"\n",
    "\n",
    "if InferenceParams.MODEL_TYPE == \"vit\":\n",
    "    patch_size = 16\n",
    "    latent_size = 256\n",
    "    n_channels = 3\n",
    "    num_heads = 8\n",
    "    num_encoders = 12\n",
    "    dropout = 0.1"
   ]
  },
  {
   "cell_type": "markdown",
   "metadata": {},
   "source": [
    "## Run Inference / Visualization"
   ]
  },
  {
   "cell_type": "code",
   "execution_count": null,
   "metadata": {},
   "outputs": [],
   "source": [
    "dataloader = get_dataloader(\"datasets\", InferenceParams.SCENE_TYPE, InferenceParams.SPLIT, False, InferenceParams.BATCH_SIZE, shuffle=False)\n",
    "student = StudentModel(patch_size=16, n_channels=3, latent_size=256, num_heads=8, num_encoders=6, num_decoders=6, dropout=0.1)\n",
    "\n",
    "# student = nn.DataParallel(student)\n",
    "# student = student.to(InferenceParams.DEVICE)\n",
    "student.load_state_dict(torch.load(InferenceParams.MODEL_PATH))"
   ]
  },
  {
   "cell_type": "code",
   "execution_count": null,
   "metadata": {},
   "outputs": [],
   "source": [
    "pcds = student_inference(student, dataloader, InferenceParams.VOXEL_SIZE, device=InferenceParams.DEVICE)\n",
    "# pcd_down = visualize_point_cloud(pcds, 0.0075)\n",
    "gc.collect()"
   ]
  },
  {
   "cell_type": "code",
   "execution_count": null,
   "metadata": {},
   "outputs": [],
   "source": [
    "# pcd_down = pcds[0].voxel_down_sample(0.02)\n",
    "points = np.asarray(pcds[0].points)\n",
    "fig = px.scatter_3d(\n",
    "    x = points[:,0],\n",
    "    y = points[:,1],\n",
    "    z = points[:,2],\n",
    "              )\n",
    "fig.update_traces(marker_size = 0.7)\n",
    "camera = dict(\n",
    "    up=dict(x=0, y=-1, z=0),\n",
    "    center=dict(x=-0.2, y=-0.2, z=0.2),\n",
    "    eye=dict(x=-1.5, y=0, z=-1.5)\n",
    ")\n",
    "\n",
    "fig.update_layout(scene_camera=camera)\n",
    "fig.show()\n",
    "gc.collect()"
   ]
  },
  {
   "cell_type": "code",
   "execution_count": null,
   "metadata": {},
   "outputs": [],
   "source": [
    "import open3d as o3d\n",
    "points = np.load(f'datasets/dust3r/{InferenceParams.SCENE_TYPE}.npy')[0].reshape(-1, 3)\n",
    "# pcd = o3d.geometry.PointCloud()\n",
    "# pcd.points = o3d.utility.Vector3dVector(points)\n",
    "# pcd_down = pcd.voxel_down_sample(0.0075)\n",
    "# points = np.asarray(pcd_down.points)\n",
    "# print(points.shape)\n",
    "fig = px.scatter_3d(\n",
    "    x = points[:,0],\n",
    "    y = points[:,1],\n",
    "    z = points[:,2],\n",
    "              )\n",
    "fig.update_traces(marker_size = 0.5)\n",
    "camera = dict(\n",
    "    up=dict(x=0, y=-1, z=0),\n",
    "    center=dict(x=-0.2, y=-0.2, z=0.2),\n",
    "    eye=dict(x=-1.5, y=0, z=-1.5)\n",
    ")\n",
    "\n",
    "fig.update_layout(scene_camera=camera)\n",
    "fig.show()"
   ]
  },
  {
   "cell_type": "code",
   "execution_count": null,
   "metadata": {},
   "outputs": [],
   "source": [
    "import open3d as o3d\n",
    "pcd = o3d.io.read_point_cloud(f'/home/ishikaalunawat/231aproj/datasets/ycb/001_chips_can/clouds/merged_cloud.ply')\n",
    "pcd = pcd.farthest_point_down_sample(5000)\n",
    "points = np.asarray(pcd.points)\n",
    "\n",
    "fig = px.scatter_3d(\n",
    "    x = points[:,0],\n",
    "    y = points[:,1],\n",
    "    z = points[:,2],\n",
    "              )\n",
    "fig.update_traces(marker_size = 0.5)\n",
    "fig.show() "
   ]
  },
  {
   "cell_type": "code",
   "execution_count": null,
   "metadata": {},
   "outputs": [],
   "source": [
    "from PIL import Image\n",
    "import numpy as np\n",
    "im = Image.open('/home/ishikaalunawat/231aproj/datasets/ycb/001_chips_can/NP5_348.jpg')\n",
    "np.asarray(im).shape"
   ]
  },
  {
   "cell_type": "code",
   "execution_count": null,
   "metadata": {},
   "outputs": [],
   "source": [
    "512/1.25"
   ]
  },
  {
   "cell_type": "code",
   "execution_count": null,
   "metadata": {},
   "outputs": [],
   "source": []
  },
  {
   "cell_type": "code",
   "execution_count": null,
   "metadata": {},
   "outputs": [],
   "source": [
    "[\"001_chips_can\",\n",
    "\"002_master_chef_can\",\n",
    "\"003_cracker_box\",\n",
    "\"004_sugar_box\",\n",
    "\"005_tomato_soup_can\",\n",
    "\"006_mustard_bottle\",\n",
    "\"007_tuna_fish_can\",\n",
    "\"008_pudding_box\",\n",
    "\"009_gelatin_box\",\n",
    "\"010_potted_meat_can\",\n",
    "\"011_banana\",\n",
    "\"012_strawberry\"]"
   ]
  }
 ],
 "metadata": {
  "kernelspec": {
   "display_name": "Python 3",
   "language": "python",
   "name": "python3"
  },
  "language_info": {
   "codemirror_mode": {
    "name": "ipython",
    "version": 3
   },
   "file_extension": ".py",
   "mimetype": "text/x-python",
   "name": "python",
   "nbconvert_exporter": "python",
   "pygments_lexer": "ipython3",
   "version": "3.11.8"
  }
 },
 "nbformat": 4,
 "nbformat_minor": 2
}
